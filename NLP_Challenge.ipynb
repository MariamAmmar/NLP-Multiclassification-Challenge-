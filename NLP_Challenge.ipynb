{
 "cells": [
  {
   "cell_type": "markdown",
   "metadata": {},
   "source": [
    "# NLP Challenge"
   ]
  },
  {
   "cell_type": "code",
   "execution_count": 1,
   "metadata": {
    "jupyter": {
     "source_hidden": true
    }
   },
   "outputs": [],
   "source": [
    "from nltk import wordpunct_tokenize\n",
    "from nltk.corpus import stopwords"
   ]
  },
  {
   "cell_type": "code",
   "execution_count": 2,
   "metadata": {},
   "outputs": [],
   "source": [
    "from collections import Counter\n",
    "from keras.utils import np_utils \n",
    "#from imblearn.over_sampling import SMOTE\n",
    "from keras.layers import Embedding, LSTM, Dense, Conv1D, MaxPooling1D, Dropout, Activation\n",
    "from keras.models import Sequential\n",
    "from keras.preprocessing.text import Tokenizer\n",
    "from keras.preprocessing.sequence import pad_sequences\n",
    "from tensorflow.keras.utils import to_categorical\n",
    "from nltk.stem import WordNetLemmatizer\n",
    "\n",
    "\n",
    "import numpy as np\n",
    "import pandas as pd \n",
    "import nltk\n",
    "from nltk.corpus import stopwords\n",
    "from nltk.tokenize import word_tokenize\n",
    "import numpy as np\n",
    "from sklearn.model_selection import KFold\n",
    "\n"
   ]
  },
  {
   "cell_type": "markdown",
   "metadata": {},
   "source": [
    "## Pre-Processing "
   ]
  },
  {
   "cell_type": "code",
   "execution_count": 3,
   "metadata": {
    "scrolled": true
   },
   "outputs": [
    {
     "data": {
      "text/plain": [
       "(100001,)"
      ]
     },
     "execution_count": 3,
     "metadata": {},
     "output_type": "execute_result"
    }
   ],
   "source": [
    "#import the dataframe and extract the y values.\n",
    "data = pd.read_csv(\"/Users/jessicaparker/Downloads/challenge 4/train_reviews.csv\")\n",
    "\n",
    "X = data['review'].astype(str)\n",
    "y = list((data[\"star\"]))\n",
    "\n",
    "\n",
    "X.shape"
   ]
  },
  {
   "cell_type": "code",
   "execution_count": 4,
   "metadata": {},
   "outputs": [],
   "source": [
    "stop_words = set(stopwords.words('english')) \n",
    "\n",
    "def remove_stopwords (text):\n",
    "    tokenized = word_tokenize(text)\n",
    "    without_stopwords = [word for word in tokenized if not word in stop_words]\n",
    "    return without_stopwords\n",
    "\n",
    "\n",
    "def lemma(text):\n",
    "    lemmatizer = WordNetLemmatizer() # Initiate lemmatizer\n",
    "    lemmatized = [lemmatizer.lemmatize(word) for word in text] # Lemmatize\n",
    "    lemmatized_string = \" \".join(lemmatized)\n",
    "    return lemmatized_string\n",
    "\n"
   ]
  },
  {
   "cell_type": "code",
   "execution_count": 5,
   "metadata": {},
   "outputs": [],
   "source": [
    "X_clean = X.apply(remove_stopwords)\n",
    "X_clean_2 = X_clean.apply(lemma)"
   ]
  },
  {
   "cell_type": "code",
   "execution_count": 6,
   "metadata": {},
   "outputs": [],
   "source": [
    "tokenizer = Tokenizer()\n",
    "tokenizer.fit_on_texts(X_clean_2)\n",
    "sequences = tokenizer.texts_to_sequences(X_clean_2)"
   ]
  },
  {
   "cell_type": "code",
   "execution_count": 7,
   "metadata": {},
   "outputs": [],
   "source": [
    "x_train_pad = pad_sequences(sequences, padding='post')\n",
    "# these variables are the ones that will be used from now on"
   ]
  },
  {
   "cell_type": "code",
   "execution_count": 8,
   "metadata": {},
   "outputs": [],
   "source": [
    "y = np.array(y)"
   ]
  },
  {
   "cell_type": "code",
   "execution_count": 9,
   "metadata": {},
   "outputs": [
    {
     "data": {
      "text/plain": [
       "(100001, 600)"
      ]
     },
     "execution_count": 9,
     "metadata": {},
     "output_type": "execute_result"
    }
   ],
   "source": [
    "x_train_pad.shape"
   ]
  },
  {
   "cell_type": "markdown",
   "metadata": {},
   "source": [
    "## Splitting and Stratifying "
   ]
  },
  {
   "cell_type": "code",
   "execution_count": 10,
   "metadata": {},
   "outputs": [
    {
     "name": "stdout",
     "output_type": "stream",
     "text": [
      "TRAIN: [ 19578  19579  19611 ...  99998  99999 100000] TEST: [    0     1     2 ... 20598 20619 20623]\n",
      "TRAIN: [     0      1      2 ...  99998  99999 100000] TEST: [19578 19579 19611 ... 40106 40110 40112]\n",
      "TRAIN: [     0      1      2 ...  99998  99999 100000] TEST: [39790 39797 39816 ... 60381 60402 60409]\n",
      "TRAIN: [     0      1      2 ...  99998  99999 100000] TEST: [59851 59855 59856 ... 80307 80308 80319]\n",
      "TRAIN: [    0     1     2 ... 80307 80308 80319] TEST: [ 79875  79882  79885 ...  99998  99999 100000]\n"
     ]
    }
   ],
   "source": [
    "import numpy as np\n",
    "from sklearn.model_selection import StratifiedKFold\n",
    "\n",
    "skf = StratifiedKFold(n_splits=5)\n",
    "skf.get_n_splits(x_train_pad, y)\n",
    "\n",
    "StratifiedKFold(n_splits=5, random_state=None, shuffle=False)\n",
    "for train_index, test_index in skf.split(x_train_pad, y):\n",
    "    print(\"TRAIN:\", train_index, \"TEST:\", test_index)\n",
    "    X_train, X_test = x_train_pad[train_index], x_train_pad[test_index]\n",
    "    y_train, y_test = y[train_index], y[test_index]"
   ]
  },
  {
   "cell_type": "markdown",
   "metadata": {},
   "source": [
    "## Creating Categories for the Target "
   ]
  },
  {
   "cell_type": "markdown",
   "metadata": {},
   "source": [
    "You cannot performed a StratifiedKFold on your target after using a method to categorize it, so..."
   ]
  },
  {
   "cell_type": "code",
   "execution_count": 11,
   "metadata": {},
   "outputs": [
    {
     "data": {
      "text/plain": [
       "(Counter({1.0: 11668, 5.0: 35495, 4.0: 17682, 3.0: 8776, 2.0: 6380}),\n",
       " Counter({5.0: 8873, 4.0: 4421, 1.0: 2917, 2.0: 1595, 3.0: 2194}))"
      ]
     },
     "execution_count": 11,
     "metadata": {},
     "output_type": "execute_result"
    }
   ],
   "source": [
    "Counter(y_train), Counter (y_test)"
   ]
  },
  {
   "cell_type": "code",
   "execution_count": 12,
   "metadata": {},
   "outputs": [
    {
     "data": {
      "text/plain": [
       "75639"
      ]
     },
     "execution_count": 12,
     "metadata": {},
     "output_type": "execute_result"
    }
   ],
   "source": [
    "X_train.shape\n",
    "vocab_size = len(tokenizer.word_index)\n",
    "vocab_size"
   ]
  },
  {
   "cell_type": "code",
   "execution_count": 13,
   "metadata": {},
   "outputs": [
    {
     "data": {
      "text/plain": [
       "(80001, 600)"
      ]
     },
     "execution_count": 13,
     "metadata": {},
     "output_type": "execute_result"
    }
   ],
   "source": [
    "X_train.shape\n"
   ]
  },
  {
   "cell_type": "code",
   "execution_count": 14,
   "metadata": {},
   "outputs": [
    {
     "data": {
      "text/plain": [
       "(80001,)"
      ]
     },
     "execution_count": 14,
     "metadata": {},
     "output_type": "execute_result"
    }
   ],
   "source": [
    "y_train.shape"
   ]
  },
  {
   "cell_type": "code",
   "execution_count": 15,
   "metadata": {},
   "outputs": [],
   "source": [
    "y_train = np_utils.to_categorical(y_train)\n",
    "y_test = np_utils.to_categorical(y_test)"
   ]
  },
  {
   "cell_type": "markdown",
   "metadata": {},
   "source": [
    "## Building the LSTM Model "
   ]
  },
  {
   "cell_type": "code",
   "execution_count": 16,
   "metadata": {},
   "outputs": [
    {
     "data": {
      "text/plain": [
       "(80001, 600)"
      ]
     },
     "execution_count": 16,
     "metadata": {},
     "output_type": "execute_result"
    }
   ],
   "source": [
    "X_train.shape"
   ]
  },
  {
   "cell_type": "code",
   "execution_count": 17,
   "metadata": {},
   "outputs": [],
   "source": [
    "from tensorflow.keras.models import Sequential\n",
    "from tensorflow.keras.layers import LSTM\n",
    "from tensorflow.keras.layers import Dense, Dropout, Embedding, Conv1D, Flatten\n",
    "\n",
    "def build_model_rnn():\n",
    "    \n",
    "    model = Sequential()\n",
    "    \n",
    "    model.add(Embedding(input_dim = 80_001, output_dim = 20, mask_zero = True))\n",
    "    model.add(LSTM(10))\n",
    "    model.add(Dropout(0.5, noise_shape = None, seed = None))\n",
    "    \n",
    "    model.add(Dense(50, activation = \"relu\"))\n",
    "    model.add(Dropout(0.5, noise_shape = None, seed = None))\n",
    "              \n",
    "    model.add(Dense(6, activation = \"softmax\"))\n",
    "    \n",
    "    model.compile(loss =\"categorical_crossentropy\" , optimizer = 'adam', metrics = [\"accuracy\"])\n",
    "    \n",
    "    return model\n",
    "    "
   ]
  },
  {
   "cell_type": "code",
   "execution_count": 18,
   "metadata": {},
   "outputs": [],
   "source": [
    "from keras.callbacks import EarlyStopping \n",
    "\n",
    "es=EarlyStopping(monitor=\"val_loss\",verbose=3,patience = 7)"
   ]
  },
  {
   "cell_type": "code",
   "execution_count": 19,
   "metadata": {},
   "outputs": [
    {
     "name": "stdout",
     "output_type": "stream",
     "text": [
      "Epoch 1/100\n",
      "1750/1750 [==============================] - 371s 212ms/step - loss: 1.1169 - accuracy: 0.5437 - val_loss: 0.9625 - val_accuracy: 0.5966\n",
      "Epoch 2/100\n",
      "1750/1750 [==============================] - 409s 234ms/step - loss: 0.8936 - accuracy: 0.6221 - val_loss: 0.8952 - val_accuracy: 0.6280\n",
      "Epoch 3/100\n",
      "1750/1750 [==============================] - 387s 221ms/step - loss: 0.8006 - accuracy: 0.6637 - val_loss: 0.8989 - val_accuracy: 0.6252\n",
      "Epoch 4/100\n",
      "1750/1750 [==============================] - 393s 225ms/step - loss: 0.7252 - accuracy: 0.6967 - val_loss: 0.9360 - val_accuracy: 0.6361\n",
      "Epoch 5/100\n",
      "1750/1750 [==============================] - 411s 235ms/step - loss: 0.6721 - accuracy: 0.7224 - val_loss: 0.9630 - val_accuracy: 0.6214\n",
      "Epoch 6/100\n",
      "1750/1750 [==============================] - 397s 227ms/step - loss: 0.6173 - accuracy: 0.7514 - val_loss: 1.0248 - val_accuracy: 0.5956\n",
      "Epoch 7/100\n",
      "1750/1750 [==============================] - 372s 213ms/step - loss: 0.5751 - accuracy: 0.7706 - val_loss: 1.0698 - val_accuracy: 0.6111\n",
      "Epoch 8/100\n",
      "1750/1750 [==============================] - 390s 223ms/step - loss: 0.5433 - accuracy: 0.7870 - val_loss: 1.1250 - val_accuracy: 0.6066\n",
      "Epoch 9/100\n",
      "1750/1750 [==============================] - 401s 229ms/step - loss: 0.5009 - accuracy: 0.8068 - val_loss: 1.2727 - val_accuracy: 0.5849\n",
      "Epoch 00009: early stopping\n"
     ]
    }
   ],
   "source": [
    "rnn_model = build_model_rnn()\n",
    "\n",
    "history = rnn_model.fit(X_train, y_train, batch_size=32, \n",
    "                        epochs=100, verbose=1, validation_split=0.3, callbacks = [es])"
   ]
  },
  {
   "cell_type": "code",
   "execution_count": 20,
   "metadata": {},
   "outputs": [],
   "source": [
    "import matplotlib.pyplot as plt\n",
    "\n",
    "def plot_loss(history):\n",
    "    plt.plot(history.history['loss'])\n",
    "    plt.plot(history.history['val_loss'])\n",
    "    plt.title('Model loss')\n",
    "    plt.ylabel('Mean Square Error - Loss')\n",
    "    plt.xlabel('Epoch')\n",
    "    plt.legend(['Train', 'Validation'], loc='best')\n",
    "    plt.show()\n",
    "    \n",
    "    plt.plot(history.history['accuracy'])\n",
    "    plt.plot(history.history['val_accuracy'])\n",
    "    plt.title('Model loss')\n",
    "    plt.ylabel('Mean Absolute Error')\n",
    "    plt.xlabel('Epoch')\n",
    "    plt.legend(['Train', 'Validation'], loc='best')\n",
    "    plt.show()\n",
    "    \n",
    "    "
   ]
  },
  {
   "cell_type": "code",
   "execution_count": 21,
   "metadata": {},
   "outputs": [
    {
     "data": {
      "image/png": "[encoded data removed]",
      "text/plain": [
       "<Figure size 432x288 with 1 Axes>"
      ]
     },
     "metadata": {
      "needs_background": "light"
     },
     "output_type": "display_data"
    },
    {
     "data": {
      "image/png": "[encoded data removed]",
      "text/plain": [
       "<Figure size 432x288 with 1 Axes>"
      ]
     },
     "metadata": {
      "needs_background": "light"
     },
     "output_type": "display_data"
    }
   ],
   "source": [
    "plot_loss(history)"
   ]
  },
  {
   "cell_type": "markdown",
   "metadata": {},
   "source": [
    "## Although this model posseses a high accuracy rate, it also shows extreme overfitting. The model should be adjusted or another form of modeling should be used. "
   ]
  }
 ],
 "metadata": {
  "kernelspec": {
   "display_name": "Python 3",
   "language": "python",
   "name": "python3"
  },
  "language_info": {
   "codemirror_mode": {
    "name": "ipython",
    "version": 3
   },
   "file_extension": ".py",
   "mimetype": "text/x-python",
   "name": "python",
   "nbconvert_exporter": "python",
   "pygments_lexer": "ipython3",
   "version": "3.7.4"
  }
 },
 "nbformat": 4,
 "nbformat_minor": 4
}
